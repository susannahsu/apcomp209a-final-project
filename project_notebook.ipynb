{
 "cells": [
  {
   "cell_type": "markdown",
   "id": "914ab3b1-3ed1-4445-9ca4-ead936818b2c",
   "metadata": {},
   "source": [
    "# <img style=\"float: left; padding-right: 10px; width: 45px\" src=\"https://raw.githubusercontent.com/Harvard-IACS/2018-CS109A/master/content/styles/iacs.png\"> CS109A Introduction to Data Science: \n",
    "## APCOMP 209a Final Project\n",
    "\n",
    "**Harvard University**<br/>\n",
    "**Fall 2023**<br/>\n",
    "**Instructors**: Pavlos Protopapas and Kevin Rader<br/>\n",
    "**Group Members**: Davide Bray, Regina Lin, Shang Wang, Susannah Su\n",
    "\n",
    "<hr style=\"height:2.4pt\">"
   ]
  },
  {
   "cell_type": "code",
   "execution_count": 1,
   "id": "e0f7dcd9-5123-41ab-a1fc-49d763f7a9f8",
   "metadata": {},
   "outputs": [
    {
     "data": {
      "text/html": [
       "<style>\n",
       "blockquote { background: #AEDE94; }\n",
       "h1 {\n",
       "    padding-top: 25px;\n",
       "    padding-bottom: 25px;\n",
       "    text-align: left;\n",
       "    padding-left: 10px;\n",
       "    background-color: #63ACBE;\n",
       "    color: black;\n",
       "}\n",
       "h2 {\n",
       "    padding-top: 10px;\n",
       "    padding-bottom: 10px;\n",
       "    text-align: left;\n",
       "    padding-left: 5px;\n",
       "    background-color: #EEEEEE;\n",
       "    color: black;\n",
       "}\n",
       "\n",
       "div.exercise {\n",
       "\tbackground-color: #f8b4ab;\n",
       "\tborder-color: #E9967A;\n",
       "\tborder-left: 5px solid #601A4A;\n",
       "\tpadding: 0.5em;\n",
       "}\n",
       "\n",
       "div.exercise-r {\n",
       "\tbackground-color: #ffd0d0;\n",
       "\tborder-color: #E9967A;\n",
       "\tborder-left: 5px solid #601A4A;\n",
       "\tpadding: 0.5em;\n",
       "}\n",
       "\n",
       "\n",
       "span.sub-q {\n",
       "\tfont-weight: bold;\n",
       "}\n",
       "div.theme {\n",
       "\tbackground-color: #63ACBE;\n",
       "\tborder-color: #E9967A;\n",
       "\tborder-left: 5px solid #601A4A;\n",
       "\tpadding: 0.5em;\n",
       "\tfont-size: 18pt;\n",
       "}\n",
       "div.gc {\n",
       "\tbackground-color: #AEDE94;\n",
       "\tborder-color: #E9967A;\n",
       "\tborder-left: 5px solid #601A4A;\n",
       "\tpadding: 0.5em;\n",
       "\tfont-size: 12pt;\n",
       "}\n",
       "p.q1 {\n",
       "    padding-top: 5px;\n",
       "    padding-bottom: 5px;\n",
       "    text-align: left;\n",
       "    padding-left: 5px;\n",
       "    background-color: #EEEEEE;\n",
       "    color: black;\n",
       "}\n",
       "header {\n",
       "   padding-top: 35px;\n",
       "    padding-bottom: 35px;\n",
       "    text-align: left;\n",
       "    padding-left: 10px;\n",
       "    background-color: #DDDDDD;\n",
       "    color: black;\n",
       "}\n",
       "span.emph {\n",
       "\tcolor: #601A4A;\n",
       "\tfont-weight: bold;\n",
       "}\n",
       "\n",
       "</style>\n"
      ],
      "text/plain": [
       "<IPython.core.display.HTML object>"
      ]
     },
     "execution_count": 1,
     "metadata": {},
     "output_type": "execute_result"
    }
   ],
   "source": [
    "# RUN THIS CELL \n",
    "import requests\n",
    "from IPython.core.display import HTML\n",
    "styles = requests.get(\n",
    "    \"https://raw.githubusercontent.com/Harvard-IACS/2021-CS109A/master/\"\n",
    "    \"themes/static/css/cs109.css\"\n",
    ").text\n",
    "HTML(styles)"
   ]
  },
  {
   "cell_type": "markdown",
   "id": "99beae86-6d5a-487a-9a7c-f21bbf3303ce",
   "metadata": {
    "jp-MarkdownHeadingCollapsed": true
   },
   "source": [
    "### Import Libraries"
   ]
  },
  {
   "cell_type": "code",
   "execution_count": 2,
   "id": "00403133-2b2c-44c9-8fe3-58c89007fded",
   "metadata": {},
   "outputs": [],
   "source": [
    "import pandas as pd\n",
    "import re\n",
    "import missingno as msno\n",
    "import numpy as np\n",
    "\n",
    "from sklearn.model_selection import train_test_split\n",
    "from sklearn.impute import SimpleImputer\n",
    "from sklearn.preprocessing import StandardScaler, MinMaxScaler\n",
    "from sklearn.utils import resample\n",
    "from sklearn.impute import KNNImputer\n",
    "from sklearn.metrics import mean_squared_error\n",
    "from sklearn.model_selection import cross_val_score\n",
    "\n",
    "pd.set_option('display.max_columns', None)\n",
    "pd.set_option('display.max_rows', None)"
   ]
  },
  {
   "cell_type": "markdown",
   "id": "ba41472a-e8a4-4410-b8a2-0e3fec9bade8",
   "metadata": {
    "jp-MarkdownHeadingCollapsed": true
   },
   "source": [
    "<a id=\"contents\"></a>\n",
    "\n",
    "## Notebook contents"
   ]
  },
  {
   "cell_type": "markdown",
   "id": "cc73e906-b7dd-4c91-9bd2-0da018edcead",
   "metadata": {},
   "source": [
    "- [**Data description**](#data_description)\n",
    "\n",
    "\n",
    "- [**Project Organization**](#project_organization)\n",
    "\n",
    "- [**Question 2: Interpretable modeling [18 pts]**](#part2)\n",
    "\n",
    "- [**Question 3: Harvard and Yale? [30 pts]**](#part3)\n",
    "\n",
    "- [**Question 4: Building predictive models for admitted [24 pts]**](#part4)\n",
    "\n",
    "- [**Question 5: Evaluating results [12 pts]**](#part5)"
   ]
  },
  {
   "cell_type": "markdown",
   "id": "015da5d9-61b4-4405-9f36-6eaaeaf66be4",
   "metadata": {
    "jp-MarkdownHeadingCollapsed": true
   },
   "source": [
    "<a id=\"data_description\"></a>\n",
    "\n",
    "## Data description\n",
    "[Return to contents](#contents)"
   ]
  },
  {
   "cell_type": "markdown",
   "id": "b14868bf-9791-4138-bd6b-652a8ce59875",
   "metadata": {
    "jp-MarkdownHeadingCollapsed": true
   },
   "source": [
    " (From Kaggle, see https://www.kaggle.com/datasets/cnic92/200-financial-indicators-of-us-stocks-20142018?select=2018_Financial_Data.csv)\n",
    "\n",
    " There are in total 5 datasets: `2014_Financial_Data.csv`, `2015_Financial_Data.csv`, `2016_Financial_Data.csv`, `2017_Financial_Data.csv`, `2018_Financial_Data.csv`.\n",
    "\n",
    "Each dataset contains 200+ financial indicators, that are commonly found in the 10-K filings each publicly traded company releases yearly, for a plethora of US stocks (on average, 4k stocks are listed in each dataset). \n",
    "\n",
    "The dataset was built by the author leveraging Financial Modeling Prep API and pandas_datareader.\n",
    "\n",
    "#### Important remarks regarding the datasets\n",
    "1. Some financial indicator values are missing (`nan` cells), so the user can select the best technique to clean each dataset (`dropna`, `fillna`, etc.).\n",
    "2. There are outliers, meaning extreme values that are probably caused by mistypings. Also in this case, the user can choose how to clean each dataset (have a look at the 1% - 99% percentile values).\n",
    "3. The third-to-last column, `Sector`, lists the sector of each stock. Indeed, in the US stock market each company is part of a sector that classifies it in a macro-area. Since all the sectors have been collected (Basic Materials, Communication Services, Consumer Cyclical, Consumer Defensive, Energy, Financial Services, Healthcare, Industrial, Real Estate, Technology and Utilities), the user has the option to perform per-sector analyses and comparisons.\n",
    "4. The second-to-last column, `PRICE VAR [%]`, lists the percent price variation of each stock for the year. For example, if we consider the dataset `2015_Financial_Data.csv`, we will have:\n",
    "    - 200+ financial indicators for the year 2015;\n",
    "    - percent price variation for the year 2016 (meaning from the first trading day on Jan 2016 to the last trading day on Dec 2016).\n",
    "\n",
    "5. The last column, `class`, lists a binary classification for each stock, where\n",
    "    - for each stock, if the `PRICE VAR [%]` value is positive, `class = 1`. From a trading perspective, the `1` identifies those stocks that an hypothetical trader should **BUY** at the start of the year and sell at the end of the year for a profit.\n",
    "    - for each stock, if the `PRICE VAR [%]` value is negative, `class = 0`. From a trading perspective, the `0` identifies those stocks that an hypothetical trader should **NOT BUY**, since their value will decrease, meaning a loss of capital.\n",
    "\n",
    "The columns `PRICE VAR [%]` and `class` make possible to use the datasets for both classification and regression tasks:\n",
    "- If the we wish to train a machine learning model so that it learns to classify those stocks that in buy-worthy and not buy-worthy, it is possible to get the targets from the class column;\n",
    "- If the we wish to train a machine learning model so that it learns to predict the future value of a stock, it is possible to get the targets from the `PRICE VAR [%]` column."
   ]
  },
  {
   "cell_type": "markdown",
   "id": "f9d4392d-ae49-4fc2-8bc8-292e8bb4abf9",
   "metadata": {},
   "source": [
    "<a id=\"project_organization\"></a>\n",
    "\n",
    "## Project Organization\n",
    "\n",
    "[Return to contents](#contents)"
   ]
  },
  {
   "cell_type": "markdown",
   "id": "022daed8-0219-4158-aa3b-64e8789dd14b",
   "metadata": {},
   "source": [
    "### Part 0: Data Preprocessing & Feature Selection / Exploratory Data Analysis"
   ]
  },
  {
   "cell_type": "markdown",
   "id": "0974065d-4a15-4885-b8d5-21817c9301ae",
   "metadata": {},
   "source": [
    "#### Overview\n",
    "This foundational part focuses on preparing the dataset for various analyses and model building in the subsequent parts. The processes conducted here are crucial for ensuring the quality and effectiveness of the models and analyses.\n",
    "\n",
    "#### Methodology\n",
    "1. **Data Cleaning**\n",
    "* Load the dataset and handle missing values.\n",
    "* Identify and address outliers.\n",
    "\n",
    "\n",
    "2. **Data Normalization/Standardization**\n",
    "* Apply normalization or standardization techniques to make the data suitable for machine learning models.\n",
    "\n",
    "\n",
    "3. **Feature Selection**\n",
    "* Implement methods like PCA or feature importance metrics to select the most relevant financial indicators.\n",
    "* Ensure that the selected features are applicable across various models and analyses."
   ]
  },
  {
   "cell_type": "markdown",
   "id": "4f9b4525-ff26-4814-b48b-5cb358dc2e48",
   "metadata": {},
   "source": [
    "### Part 1: Stock Performance Prediction Model"
   ]
  },
  {
   "cell_type": "markdown",
   "id": "0252195d-4651-4df7-8e1e-e7072fd82553",
   "metadata": {},
   "source": [
    "#### Objective \n",
    "Develop a machine learning model to predict future stock price variations.\n",
    "\n",
    "#### Methodology\n",
    "1. **Model Building**\n",
    "* xx\n",
    "* xx\n",
    "* xx\n",
    "\n",
    "2. **Evaluation**\n",
    "* Assess model performance using $MSE$, $R^2$, xxx"
   ]
  },
  {
   "cell_type": "markdown",
   "id": "8d49d095-03f0-4aee-87d3-160e8c00d24f",
   "metadata": {},
   "source": [
    "### Part 2: Stock Classification Model for Investment Strategy"
   ]
  },
  {
   "cell_type": "markdown",
   "id": "f3d53a81-17f8-4dab-b053-0df8eab18e77",
   "metadata": {},
   "source": [
    "#### Objective\n",
    "Create a classification model to differentiate between buy-worthy and not buy-worthy stocks.\n",
    "\n",
    "#### Methodology\n",
    "1. **Model Building**\n",
    "* Implement classification algorithms (Logistic Regression, SVM, Neural Networks) using the prepared dataset.\n",
    "2. **Evaluation**\n",
    "* Use metrics like accuracy, precision, recall, F1-score, and ROC-AUC for evaluation."
   ]
  },
  {
   "cell_type": "markdown",
   "id": "a94ae183-f08f-49f8-9333-b9f9b67fb798",
   "metadata": {},
   "source": [
    "### Part 3: Network Analysis of Stock Market Interdependencies"
   ]
  },
  {
   "cell_type": "markdown",
   "id": "d802b519-c871-440f-acc3-085ad301d6b8",
   "metadata": {},
   "source": [
    "#### Objective\n",
    "Analyze the network of interdependencies among stocks or sectors.\n",
    "\n",
    "#### Methodology\n",
    "1. **Network Construction**\n",
    "* Construct a network graph based on the relationships derived from the preprocessed data.\n",
    "\n",
    "2. **Network Analysis**\n",
    "* Perform analysis to identify clusters, central nodes, and community structures.\n",
    "\n",
    "3. **Evaluation**\n",
    "* Evaluate the network’s insights on stock market dynamics."
   ]
  },
  {
   "cell_type": "markdown",
   "id": "79efdc7d-eb30-45c2-9e62-5a3788ed49fc",
   "metadata": {},
   "source": [
    "<a id=\"project_organization\"></a>\n",
    "\n",
    "## Part 0: Data Preprocessing & Feature Selection / Exploratory Data Analysis\n",
    "\n",
    "[Return to contents](#contents)"
   ]
  },
  {
   "cell_type": "code",
   "execution_count": null,
   "id": "6d3d068a-fe65-495e-a5e6-d48aad6c533c",
   "metadata": {},
   "outputs": [],
   "source": []
  },
  {
   "cell_type": "code",
   "execution_count": null,
   "id": "1778f212-4267-43da-b1e5-46824f4ef5ef",
   "metadata": {},
   "outputs": [],
   "source": []
  },
  {
   "cell_type": "markdown",
   "id": "d05b88a0-be7e-4ecb-8e0a-2c33582be4e7",
   "metadata": {},
   "source": [
    "<a id=\"project_organization\"></a>\n",
    "\n",
    "## Part 1: Stock Performance Prediction Model\n",
    "\n",
    "[Return to contents](#contents)"
   ]
  },
  {
   "cell_type": "code",
   "execution_count": null,
   "id": "c9bf7bb6-c54b-476e-adaa-fb9e68358dbf",
   "metadata": {},
   "outputs": [],
   "source": []
  },
  {
   "cell_type": "code",
   "execution_count": null,
   "id": "04a0efd2-68f8-4d2c-8cae-239a9a1b3e8e",
   "metadata": {},
   "outputs": [],
   "source": []
  },
  {
   "cell_type": "markdown",
   "id": "47bd648c-8cfc-471d-b7ed-5fb76447c1a8",
   "metadata": {},
   "source": [
    "<a id=\"project_organization\"></a>\n",
    "\n",
    "## Part 2: Stock Classification Model for Investment Strategy\n",
    "\n",
    "[Return to contents](#contents)"
   ]
  },
  {
   "cell_type": "code",
   "execution_count": null,
   "id": "dc712e5c-9e5f-40d3-a952-577fa3567512",
   "metadata": {},
   "outputs": [],
   "source": []
  },
  {
   "cell_type": "code",
   "execution_count": null,
   "id": "92cc6a1f-d513-44f5-bf49-9d195bdce131",
   "metadata": {},
   "outputs": [],
   "source": []
  },
  {
   "cell_type": "markdown",
   "id": "21998025-29c6-4157-bf14-d2e50c9de07f",
   "metadata": {},
   "source": [
    "<a id=\"project_organization\"></a>\n",
    "\n",
    "## Part 3: Network Analysis of Stock Market Interdependencies\n",
    "\n",
    "[Return to contents](#contents)"
   ]
  },
  {
   "cell_type": "code",
   "execution_count": null,
   "id": "adbb84a2-804d-4b68-aeb0-698ad96c0560",
   "metadata": {},
   "outputs": [],
   "source": []
  },
  {
   "cell_type": "code",
   "execution_count": null,
   "id": "45187d25-09e3-4a4c-b1d3-4dc04e5ccc34",
   "metadata": {},
   "outputs": [],
   "source": []
  },
  {
   "cell_type": "code",
   "execution_count": null,
   "id": "e7235ce6-8517-4ab7-a4cc-e0425d72a5f1",
   "metadata": {},
   "outputs": [],
   "source": []
  }
 ],
 "metadata": {
  "kernelspec": {
   "display_name": "Python 3 (ipykernel)",
   "language": "python",
   "name": "python3"
  },
  "language_info": {
   "codemirror_mode": {
    "name": "ipython",
    "version": 3
   },
   "file_extension": ".py",
   "mimetype": "text/x-python",
   "name": "python",
   "nbconvert_exporter": "python",
   "pygments_lexer": "ipython3",
   "version": "3.11.5"
  }
 },
 "nbformat": 4,
 "nbformat_minor": 5
}
